{
 "cells": [
  {
   "cell_type": "raw",
   "id": "914e2976",
   "metadata": {
    "vscode": {
     "languageId": "raw"
    }
   },
   "source": [
    "---\n",
    "layout: post\n",
    "toc: True\n",
    "breadcrumb: True\n",
    "title: Review Blog\n",
    "description: Blog #1\n",
    "permalink: /blogs/blog1\n",
    "author: Ethan Lance Oberiano\n",
    "---"
   ]
  },
  {
   "cell_type": "markdown",
   "id": "a73ebb2f",
   "metadata": {},
   "source": [
    "### Review Blog"
   ]
  }
 ],
 "metadata": {
  "language_info": {
   "name": "python"
  }
 },
 "nbformat": 4,
 "nbformat_minor": 5
}
