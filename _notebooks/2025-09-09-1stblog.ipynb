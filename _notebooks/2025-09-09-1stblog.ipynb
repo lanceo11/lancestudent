{
 "cells": [
  {
   "cell_type": "raw",
   "id": "914e2976",
   "metadata": {
    "vscode": {
     "languageId": "raw"
    }
   },
   "source": [
    "---\n",
    "layout: post\n",
    "toc: True\n",
    "breadcrumb: True\n",
    "title: Review Blog\n",
    "description: Blog #1\n",
    "permalink: /blogs/blog1\n",
    "author: Ethan Lance Oberiano\n",
    "---"
   ]
  },
  {
   "cell_type": "markdown",
   "id": "a73ebb2f",
   "metadata": {},
   "source": [
    "### Review Blog"
   ]
  },
  {
   "cell_type": "markdown",
   "id": "40857e7d",
   "metadata": {},
   "source": [
    "1. We first started with signing up for tools like GitHub and Slack.\n",
    "2. We installed our tools using the Mac Terminal (Homebrew and Python)\n",
    "3. We set up our virtual envrionment by activating/mading our venv file for (source venv/bin/activate)  \n",
    "4. We edited our index.md and about.md files\n",
    "5. We ran Jupyter Notebooks and our jokes files"
   ]
  }
 ],
 "metadata": {
  "language_info": {
   "name": "python"
  }
 },
 "nbformat": 4,
 "nbformat_minor": 5
}
