{
 "cells": [
  {
   "cell_type": "raw",
   "id": "914e2976",
   "metadata": {
    "vscode": {
     "languageId": "raw"
    }
   },
   "source": [
    "---\n",
    "layout: post\n",
    "toc: True\n",
    "breadcrumb: True\n",
    "title: Review Blog\n",
    "description: Blog #1\n",
    "permalink: /blogs/blog1\n",
    "author: Ethan Lance Oberiano\n",
    "---"
   ]
  },
  {
   "cell_type": "markdown",
   "id": "a73ebb2f",
   "metadata": {},
   "source": [
    "### Review Blog"
   ]
  },
  {
   "cell_type": "markdown",
   "id": "f39d10b3",
   "metadata": {},
   "source": [
    "## Setting Up Tools"
   ]
  },
  {
   "cell_type": "markdown",
   "id": "40857e7d",
   "metadata": {},
   "source": [
    "1. We first started with signing up for tools like GitHub and Slack.\n",
    "    - We used our computer's terminal to install our files\n",
    "2. We installed our tools using the Mac Terminal (Homebrew and Python)\n",
    "3. We forked our student respository and also forked a pages repository"
   ]
  },
  {
   "cell_type": "markdown",
   "id": "832244e9",
   "metadata": {},
   "source": [
    "## Setting up Our Virtual Envrionment"
   ]
  },
  {
   "cell_type": "markdown",
   "id": "49d57b93",
   "metadata": {},
   "source": [
    "1.  We set up our virtual envrionment by activating/making our venv file\n",
    "    - Allowed us to do source venv/bin/activate in our terminals\n",
    "        - Both computer and vs code terminal\n",
    "2. Used git pull to pull file updates from our forked repository\n"
   ]
  },
  {
   "cell_type": "markdown",
   "id": "9f7bbdc6",
   "metadata": {},
   "source": [
    "## Editing\n",
    "1. We edited our index.md and about.md files\n",
    "    - Added our personal info and edited images\n",
    "2. We ran Jupyter Notebooks and our jokes files\n",
    "    - We used a mix of testing with Html and Javascript\n",
    "3. We ran our background\n",
    "    - Tested our work with code and newly seen commands with images, sprites, and backgrounds\n",
    "4. We edited our snake.md and made a group repository"
   ]
  }
 ],
 "metadata": {
  "language_info": {
   "name": "python"
  }
 },
 "nbformat": 4,
 "nbformat_minor": 5
}
